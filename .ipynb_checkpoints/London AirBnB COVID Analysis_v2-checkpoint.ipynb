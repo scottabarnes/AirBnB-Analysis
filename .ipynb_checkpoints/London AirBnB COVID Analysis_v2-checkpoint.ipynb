{
 "cells": [
  {
   "cell_type": "markdown",
   "metadata": {},
   "source": [
    "# Analysis introduction "
   ]
  },
  {
   "cell_type": "markdown",
   "metadata": {
    "heading_collapsed": true
   },
   "source": [
    "## Purpose\n",
    "The purpose of this analysis is to look at what impact the global pandemic appears to have had on the London AirBnB marrket. \n",
    "- Context on London - borough structure\n",
    "- Context on AirBnB - when did AirBnB come to London etc.\n",
    "- Context on the global pandemic in London - first case reported, first official lockdown \n",
    "\n",
    "Look at three questions in an attempt to answer this from the perspective of AirBnB hosts and guests. \n",
    "\n",
    "## Methodology\n",
    "The data was obtained from AirBnB inside data and COVID data. This was unzipped etc. and ingested. \n",
    "Data processing was performed. \n",
    "\n",
    "Key steps:\n",
    "\n",
    "1. \n",
    "2. \n",
    "3. \n",
    "\n",
    "Data analysis was performed\n",
    "1. \n",
    "2. \n",
    "3. \n",
    "\n",
    "## WIP - improvements\n",
    "\n",
    "## Results\n",
    "\n",
    "## Suggested next steps"
   ]
  },
  {
   "cell_type": "markdown",
   "metadata": {},
   "source": [
    "# Set up"
   ]
  },
  {
   "cell_type": "markdown",
   "metadata": {},
   "source": [
    "## Library import"
   ]
  },
  {
   "cell_type": "code",
   "execution_count": null,
   "metadata": {},
   "outputs": [],
   "source": [
    "# Data manipulation\n",
    "import pandas as pd\n",
    "import numpy as np\n",
    "from datetime import date, time, timedelta\n",
    "import datetime as dt\n",
    "import matplotlib.pyplot as plt\n",
    "from IPython.display import display, HTML\n",
    "import re \n",
    "\n",
    "# Data manipulation variables\n",
    "also = ' and '\n",
    "\n",
    "# Classification accuracy \n",
    "from sklearn.metrics import confusion_matrix\n",
    "from sklearn.metrics import plot_confusion_matrix\n",
    "from sklearn.metrics import accuracy_score\n",
    "from sklearn.metrics import classification_report\n",
    "\n",
    "# Options for pandas\n",
    "pd.options.display.max_columns = 50\n",
    "pd.options.display.max_rows = 30\n",
    "\n",
    "# Visualizations\n",
    "import plotly\n",
    "import plotly.graph_objs as go\n",
    "import plotly.offline as ply\n",
    "plotly.offline.init_notebook_mode(connected=True)\n",
    "import plotly.express as px\n",
    "import seaborn as sns\n",
    "\n",
    "import cufflinks as cf\n",
    "cf.go_offline(connected=True)\n",
    "cf.set_config_file(theme='white')\n",
    "\n",
    "%matplotlib inline\n",
    "\n",
    "# Visualisation options\n",
    "sns.set_style(\"whitegrid\")\n",
    "\n",
    "# Date parsers\n",
    "dparser = lambda date: pd.datetime.strptime(date, '%d/%m/%Y %H:%M')\n",
    "dparser2 = lambda date: pd.to_datetime(date, format='%d/%m/%Y %H:%M', errors='coerce')\n",
    "dparser3 = lambda date: pd.to_datetime(date, format='%d/%m/%Y %H:%M:%S', errors='coerce')\n",
    "dshortparser = lambda date: pd.datetime.strptime(date, '%d/%b/%Y')\n",
    "dshortparser2 = lambda date: pd.datetime.strptime(date, '%d/%m/%Y')\n",
    "dshortparser3 = lambda date: pd.to_datetime(date, format='%Y%m%d',errors='coerce')\n",
    "\n",
    "# Hide warnings \n",
    "import warnings \n",
    "warnings.simplefilter('ignore')\n",
    "\n",
    "# Autoreload extension\n",
    "if 'autoreload' not in get_ipython().extension_manager.loaded:\n",
    "    %load_ext autoreload\n",
    "    \n",
    "%autoreload 2\n",
    "\n",
    "\n",
    "# Another try\n",
    "%load_ext autoreload\n",
    "%autoreload 2\n"
   ]
  },
  {
   "cell_type": "markdown",
   "metadata": {},
   "source": [
    "## Local library import"
   ]
  },
  {
   "cell_type": "code",
   "execution_count": null,
   "metadata": {},
   "outputs": [],
   "source": [
    "import sys\n",
    "import os\n",
    "\n",
    "# Find local library directory - which should be located within a parent directory\n",
    "current_path = os.getcwd()\n",
    "os.chdir(\"..\")\n",
    "current_path = os.getcwd() \n",
    "libfiledir = \"library\"\n",
    "\n",
    "current_path\n",
    "direxists = False\n",
    "while direxists==False:\n",
    "    test_dir = os.path.join(current_path,libfiledir)\n",
    "    last_current_path = current_path\n",
    "    direxists = os.path.isdir(test_dir)\n",
    "    current_path = os.path.dirname(current_path)\n",
    "    if(current_path == last_current_path):\n",
    "        break;\n",
    "        \n",
    "if direxists == True:\n",
    "    sys.path.append(test_dir)"
   ]
  },
  {
   "cell_type": "code",
   "execution_count": null,
   "metadata": {},
   "outputs": [],
   "source": [
    "os.getcwd()"
   ]
  },
  {
   "cell_type": "code",
   "execution_count": null,
   "metadata": {},
   "outputs": [],
   "source": [
    "os.chdir(os.path.join(os.getcwd() , \"1-AirBnB-Analysis\"))\n",
    "os.getcwd()"
   ]
  },
  {
   "cell_type": "code",
   "execution_count": null,
   "metadata": {},
   "outputs": [],
   "source": [
    "from dataframe_common import *"
   ]
  },
  {
   "cell_type": "code",
   "execution_count": null,
   "metadata": {},
   "outputs": [],
   "source": [
    "display_and_show_all??"
   ]
  },
  {
   "cell_type": "markdown",
   "metadata": {},
   "source": [
    "Data that will be used in notebook for demonstrating functions"
   ]
  },
  {
   "cell_type": "markdown",
   "metadata": {},
   "source": [
    "# Data ingestion / import"
   ]
  },
  {
   "cell_type": "markdown",
   "metadata": {},
   "source": [
    "## Ingest and preview the files"
   ]
  },
  {
   "cell_type": "code",
   "execution_count": null,
   "metadata": {},
   "outputs": [],
   "source": [
    "import geopandas as gpd "
   ]
  },
  {
   "cell_type": "markdown",
   "metadata": {},
   "source": [
    "The files were downloaded from the insideairbnb website on 27th August 2020. http://insideairbnb.com/get-the-data.html "
   ]
  },
  {
   "cell_type": "code",
   "execution_count": null,
   "metadata": {},
   "outputs": [],
   "source": [
    "ls data/"
   ]
  },
  {
   "cell_type": "code",
   "execution_count": null,
   "metadata": {},
   "outputs": [],
   "source": [
    "filename = 'example'\n",
    "f'data/{filename}.csv'"
   ]
  },
  {
   "cell_type": "code",
   "execution_count": null,
   "metadata": {},
   "outputs": [],
   "source": [
    "def get_data(filename):\n",
    "    #TODO - replace with f string formatting \n",
    "    df = pd.read_csv(f'data/{filename}.csv')\n",
    "    if 'date' in df.columns:\n",
    "        df['date'] = pd.to_datetime(df['date'])\n",
    "    return df"
   ]
  },
  {
   "cell_type": "markdown",
   "metadata": {},
   "source": [
    "### calendars.csv.gz"
   ]
  },
  {
   "cell_type": "markdown",
   "metadata": {},
   "source": [
    "calendar is an import of calendar.csv.gz. File desription: 'Detailed Listings data for London'."
   ]
  },
  {
   "cell_type": "code",
   "execution_count": null,
   "metadata": {},
   "outputs": [],
   "source": [
    "get_data??"
   ]
  },
  {
   "cell_type": "code",
   "execution_count": null,
   "metadata": {},
   "outputs": [],
   "source": [
    "# First uncompress the file \n",
    "# ! gunzip 'data/calendar.csv.gz' \n",
    "calendar = get_data('calendar')\n",
    "calendar.sample(3)"
   ]
  },
  {
   "cell_type": "code",
   "execution_count": null,
   "metadata": {},
   "outputs": [],
   "source": [
    "# describe_data(calendar)"
   ]
  },
  {
   "cell_type": "markdown",
   "metadata": {},
   "source": [
    "### listings.csv"
   ]
  },
  {
   "cell_type": "markdown",
   "metadata": {},
   "source": [
    "listings is an import of listings.csv. File description: 'Summary information and metrics for listings in London (good for visualisations)."
   ]
  },
  {
   "cell_type": "code",
   "execution_count": null,
   "metadata": {},
   "outputs": [],
   "source": [
    "listings = get_data('listings')\n",
    "listings.sample(3)"
   ]
  },
  {
   "cell_type": "code",
   "execution_count": null,
   "metadata": {},
   "outputs": [],
   "source": [
    "# describe_data(listings)"
   ]
  },
  {
   "cell_type": "markdown",
   "metadata": {},
   "source": [
    "### listings.csv.gz"
   ]
  },
  {
   "cell_type": "markdown",
   "metadata": {},
   "source": [
    "listings_det is an import of listings.csv.gz. File description 'Detailed Listings data for London'."
   ]
  },
  {
   "cell_type": "code",
   "execution_count": null,
   "metadata": {},
   "outputs": [],
   "source": [
    "# First rename the file\n",
    "! mv 'data/listings.csv.gz' 'data/listings_det.csv.gz'\n",
    "# Then uncompress\n",
    "! gunzip 'data/listings_det.csv'"
   ]
  },
  {
   "cell_type": "markdown",
   "metadata": {},
   "source": [
    "### New heading"
   ]
  },
  {
   "cell_type": "code",
   "execution_count": null,
   "metadata": {},
   "outputs": [],
   "source": [
    "listings.head(1)"
   ]
  },
  {
   "cell_type": "code",
   "execution_count": null,
   "metadata": {},
   "outputs": [],
   "source": []
  },
  {
   "cell_type": "code",
   "execution_count": null,
   "metadata": {},
   "outputs": [],
   "source": [
    "host_listings = listings.groupby('host_id').agg(**{'Number of listings':('id','count')}).reset_index()"
   ]
  },
  {
   "cell_type": "code",
   "execution_count": null,
   "metadata": {},
   "outputs": [],
   "source": [
    "# 1 - 2, 3 - 9, 10 + \n",
    "def bin_number_listings(col):\n",
    "    if col == 1 or col == 2: return \"1-2\"\n",
    "    elif col in [3,4,5,6,7,8,9]: return \"3-9\"\n",
    "    else: return \"10+\""
   ]
  },
  {
   "cell_type": "code",
   "execution_count": null,
   "metadata": {},
   "outputs": [],
   "source": [
    "host_listings['Number of listings bin'] = host_listings['Number of listings'].apply(bin_number_listings)"
   ]
  },
  {
   "cell_type": "code",
   "execution_count": null,
   "metadata": {},
   "outputs": [],
   "source": [
    "pretty_value_counts(host_listings,'Number of listings bin')"
   ]
  },
  {
   "cell_type": "code",
   "execution_count": null,
   "metadata": {},
   "outputs": [],
   "source": [
    "host_listings.head(1)"
   ]
  },
  {
   "cell_type": "code",
   "execution_count": null,
   "metadata": {},
   "outputs": [],
   "source": [
    "listings.head(1)"
   ]
  },
  {
   "cell_type": "code",
   "execution_count": null,
   "metadata": {},
   "outputs": [],
   "source": [
    "listings.shape"
   ]
  },
  {
   "cell_type": "code",
   "execution_count": null,
   "metadata": {},
   "outputs": [],
   "source": [
    "listings = listings.merge(host_listings,how='left',on='host_id')"
   ]
  },
  {
   "cell_type": "code",
   "execution_count": null,
   "metadata": {},
   "outputs": [],
   "source": [
    "listings.nunique()"
   ]
  },
  {
   "cell_type": "code",
   "execution_count": null,
   "metadata": {},
   "outputs": [],
   "source": [
    "### most properties are owned by \n",
    "pretty_value_counts(listings,'Number of listings bin')"
   ]
  },
  {
   "cell_type": "code",
   "execution_count": null,
   "metadata": {},
   "outputs": [],
   "source": [
    "host_listings.merge(listings_det[['host_id','neighbourhood']],how='left',on='host_id').query('host_id == 4775')"
   ]
  },
  {
   "cell_type": "code",
   "execution_count": null,
   "metadata": {},
   "outputs": [],
   "source": [
    "l"
   ]
  },
  {
   "cell_type": "code",
   "execution_count": null,
   "metadata": {},
   "outputs": [],
   "source": [
    "\n",
    "listings_det['description_lower'] = listings_det['description'].str.lower()\n",
    "listings_det['description_lower'].fillna('NA',inplace=True)\n",
    "listings_det['covid'] = np.where(listings_det['description_lower'].str.contains(\"covid\"),1,0)"
   ]
  },
  {
   "cell_type": "code",
   "execution_count": null,
   "metadata": {},
   "outputs": [],
   "source": [
    "listings_det.covid.value_counts()"
   ]
  },
  {
   "cell_type": "code",
   "execution_count": null,
   "metadata": {},
   "outputs": [],
   "source": [
    "pretty_value_counts(listings_det.query('covid == 1'),'neighbourhood')"
   ]
  },
  {
   "cell_type": "code",
   "execution_count": null,
   "metadata": {},
   "outputs": [],
   "source": [
    "display_and_show_all(listings_det.query('covid == 1').sample(1)['description'])"
   ]
  },
  {
   "cell_type": "code",
   "execution_count": null,
   "metadata": {},
   "outputs": [],
   "source": [
    "host_listings['Number of listings'].describe()"
   ]
  },
  {
   "cell_type": "code",
   "execution_count": null,
   "metadata": {},
   "outputs": [],
   "source": [
    "listings_det = get_data('listings_det')\n",
    "listings_det.sample(3)"
   ]
  },
  {
   "cell_type": "code",
   "execution_count": null,
   "metadata": {},
   "outputs": [],
   "source": [
    "listings_det['host_since'] = pd.to_datetime(listings_det['host_since'])\n",
    "listings_det['host_since_year'] =listings_det['host_since'].dt.year"
   ]
  },
  {
   "cell_type": "code",
   "execution_count": null,
   "metadata": {},
   "outputs": [],
   "source": [
    "listings_hosts = listings_det.groupby(['host_since_year','room_type']).agg(**{'number_listings':('id','count'),'number_hosts':('host_id','nunique')}).reset_index()\n",
    "listings_hosts['avg_listings_per_host'] = listings_hosts['number_listings']/ listings_hosts['number_hosts']\n",
    "listings_hosts.tail(19)"
   ]
  },
  {
   "cell_type": "code",
   "execution_count": null,
   "metadata": {},
   "outputs": [],
   "source": [
    "listings_det['host_since'].dt.year.value_counts().reset_index()"
   ]
  },
  {
   "cell_type": "code",
   "execution_count": null,
   "metadata": {},
   "outputs": [],
   "source": [
    "display_and_show_all(describe_data(listings_det))"
   ]
  },
  {
   "cell_type": "markdown",
   "metadata": {},
   "source": [
    "### neighbours.csv"
   ]
  },
  {
   "cell_type": "markdown",
   "metadata": {},
   "source": [
    "neighbourhoods in an import of neighbourhoods.csv. File description: 'neighbourhood list for geo filter. Sourced from city or open source GIS files.'"
   ]
  },
  {
   "cell_type": "code",
   "execution_count": null,
   "metadata": {},
   "outputs": [],
   "source": [
    "neighbours = get_data('neighbourhoods')\n",
    "neighbours.sample(3)"
   ]
  },
  {
   "cell_type": "code",
   "execution_count": null,
   "metadata": {},
   "outputs": [],
   "source": [
    "# describe_data(neighbours)"
   ]
  },
  {
   "cell_type": "markdown",
   "metadata": {},
   "source": [
    "### neigbours.geojson"
   ]
  },
  {
   "cell_type": "code",
   "execution_count": null,
   "metadata": {},
   "outputs": [],
   "source": [
    "get_data??"
   ]
  },
  {
   "cell_type": "code",
   "execution_count": null,
   "metadata": {},
   "outputs": [],
   "source": [
    "##neighbours_geo = gpd.read_file('data/neighbourhoods.geojson')\n",
    "## neighbours_geo "
   ]
  },
  {
   "cell_type": "markdown",
   "metadata": {},
   "source": [
    "### reviews.csv"
   ]
  },
  {
   "cell_type": "markdown",
   "metadata": {},
   "source": [
    "reviews is an import of reviews.csv. File description: 'summary review data and listing ID (to faciliate time based analytics and visualisations linked to a listing)."
   ]
  },
  {
   "cell_type": "code",
   "execution_count": null,
   "metadata": {},
   "outputs": [],
   "source": [
    "reviews = get_data('reviews')\n",
    "reviews.sample(3)"
   ]
  },
  {
   "cell_type": "code",
   "execution_count": null,
   "metadata": {},
   "outputs": [],
   "source": [
    "# describe_data(reviews)"
   ]
  },
  {
   "cell_type": "markdown",
   "metadata": {},
   "source": [
    "### reviews.csv.gz"
   ]
  },
  {
   "cell_type": "code",
   "execution_count": null,
   "metadata": {},
   "outputs": [],
   "source": [
    "# First rename the file\n",
    "! mv 'data/reviews.csv.gz' 'data/reviews_det.csv.gz'\n",
    "# Then uncompress\n",
    "! gunzip 'data/reviews_det.csv'"
   ]
  },
  {
   "cell_type": "code",
   "execution_count": null,
   "metadata": {},
   "outputs": [],
   "source": [
    "reviews_det = get_data('reviews_det')\n",
    "display_and_show_all(reviews_det.sample(3))"
   ]
  },
  {
   "cell_type": "code",
   "execution_count": null,
   "metadata": {},
   "outputs": [],
   "source": [
    "# describe_data(reviews_det)"
   ]
  },
  {
   "cell_type": "markdown",
   "metadata": {},
   "source": [
    "# Data analysis "
   ]
  },
  {
   "cell_type": "markdown",
   "metadata": {},
   "source": [
    "## What changes have been seen in the pricing of properties and what impact has this had on property demand?"
   ]
  },
  {
   "cell_type": "markdown",
   "metadata": {},
   "source": [
    "### Has there been a decrease in nightly rate following the pandemic to attract more business? Has there been an increase in auxiliary costs, e.g. cleaning fee?"
   ]
  },
  {
   "cell_type": "code",
   "execution_count": null,
   "metadata": {},
   "outputs": [],
   "source": [
    "calendar"
   ]
  },
  {
   "cell_type": "code",
   "execution_count": null,
   "metadata": {},
   "outputs": [],
   "source": [
    "top_14 = list(pretty_value_counts(listings,'neighbourhood').head(14)['neighbourhood'])"
   ]
  },
  {
   "cell_type": "code",
   "execution_count": null,
   "metadata": {
    "scrolled": true
   },
   "outputs": [],
   "source": [
    "top_14_mask = listings['neighbourhood'].isin(top_14)\n",
    "listings_grp = listings[top_14_mask].groupby(['neighbourhood']).agg(**{'Number of listings':('id','nunique'),\n",
    "                                          'Median price':('price','median')}).reset_index()"
   ]
  },
  {
   "cell_type": "code",
   "execution_count": null,
   "metadata": {},
   "outputs": [],
   "source": []
  },
  {
   "cell_type": "code",
   "execution_count": null,
   "metadata": {},
   "outputs": [],
   "source": [
    "ax = plt.subplots(figsize=(12,8))\n",
    "ax = px.box(listings.query('price < 500'),y='price',x='room_type',color='room_type')\n",
    "ax.show()\n",
    "#ax.set(ylim=[0,500])"
   ]
  },
  {
   "cell_type": "code",
   "execution_count": null,
   "metadata": {},
   "outputs": [],
   "source": [
    "ax = plt.subplots(figsize=(12,8))\n",
    "ax = px.box(listings.query('price < 500'),y='price',x='room_type',color='room_type')\n",
    "ax.show()\n",
    "#ax.set(ylim=[0,500])"
   ]
  },
  {
   "cell_type": "code",
   "execution_count": null,
   "metadata": {},
   "outputs": [],
   "source": [
    "fig, ax1 = plt.subplots(figsize=(12,8))\n",
    "ax1 = sns.barplot(x='neighbourhood',y='Number of listings',data=listings_grp)\n",
    "plt.xticks(rotation=45)\n",
    "\n",
    "ax2 = ax1.twinx()\n",
    "ax2 = sns.lineplot(x='neighbourhood',y='Median price',data=listings_grp)\n"
   ]
  },
  {
   "cell_type": "code",
   "execution_count": null,
   "metadata": {},
   "outputs": [],
   "source": []
  },
  {
   "cell_type": "markdown",
   "metadata": {},
   "source": [
    "### Have properties that have adjusted their prices seen an uptake in demand vs. other areas?"
   ]
  },
  {
   "cell_type": "code",
   "execution_count": null,
   "metadata": {},
   "outputs": [],
   "source": [
    "def clean_calendar(calendar):\n",
    "    calendar['date_month'] = calendar['date'].dt.month\n",
    "    calendar['date_year'] = calendar['date'].dt.year\n",
    "    calendar['price_clean']  = calendar['price'].str.replace(\"$\",\"\")\n",
    "    calendar['price_clean']  = calendar['price_clean'].str.replace(\",\",\"\")\n",
    "    calendar['price_clean'] = calendar['price_clean'].astype(float)\n",
    "    calendar['adjusted_price_clean']  = calendar['adjusted_price'].str.replace(\"$\",\"\")\n",
    "    calendar['adjusted_price_clean']  = calendar['adjusted_price_clean'].str.replace(\",\",\"\")\n",
    "    calendar['adjusted_price_clean'] = calendar['adjusted_price_clean'].astype(float)    \n",
    "    calendar['available_flag'] = np.where(calendar['available']==\"t\",1,0)\n",
    "    return calendar"
   ]
  },
  {
   "cell_type": "code",
   "execution_count": null,
   "metadata": {},
   "outputs": [],
   "source": [
    "calendar = clean_calendar(calendar)"
   ]
  },
  {
   "cell_type": "code",
   "execution_count": null,
   "metadata": {},
   "outputs": [],
   "source": [
    "calendar_feb = get_data('calendar_feb')"
   ]
  },
  {
   "cell_type": "code",
   "execution_count": null,
   "metadata": {},
   "outputs": [],
   "source": [
    "calendar_feb = clean_calendar(calendar_feb)"
   ]
  },
  {
   "cell_type": "code",
   "execution_count": null,
   "metadata": {},
   "outputs": [],
   "source": [
    "july_prices_in_feb = calendar_feb[(calendar_feb['date_year'] == 2020) & (calendar_feb['date_month'] == 7)]"
   ]
  },
  {
   "cell_type": "code",
   "execution_count": null,
   "metadata": {},
   "outputs": [],
   "source": [
    "july_prices_in_june = calendar_july = calendar[(calendar['date_year']==2020) & (calendar['date_month']==7)] "
   ]
  },
  {
   "cell_type": "code",
   "execution_count": null,
   "metadata": {},
   "outputs": [],
   "source": [
    "july_prices_in_feb_agg = july_prices_in_feb.groupby(['listing_id']).agg(**{'med_july_price_in_feb':('price_clean','median')}).reset_index()"
   ]
  },
  {
   "cell_type": "code",
   "execution_count": null,
   "metadata": {},
   "outputs": [],
   "source": [
    "july_prices_in_june_agg = july_prices_in_june.groupby(['listing_id']).agg(**{'med_july_price_in_jun':('price_clean','median')}).reset_index()"
   ]
  },
  {
   "cell_type": "code",
   "execution_count": null,
   "metadata": {},
   "outputs": [],
   "source": [
    "july_prices_feb_jun_compare = july_prices_in_feb_agg.merge(july_prices_in_june_agg,how='left',on='listing_id')"
   ]
  },
  {
   "cell_type": "code",
   "execution_count": null,
   "metadata": {},
   "outputs": [],
   "source": [
    "listed_in_june = july_prices_feb_jun_compare['med_july_price_in_jun'].notnull()"
   ]
  },
  {
   "cell_type": "code",
   "execution_count": null,
   "metadata": {},
   "outputs": [],
   "source": [
    "july_prices_feb_jun_compare  = july_prices_feb_jun_compare[listed_in_june]"
   ]
  },
  {
   "cell_type": "code",
   "execution_count": null,
   "metadata": {},
   "outputs": [],
   "source": [
    "july_prices_feb_jun_compare['feb_to_jun_discount_rate'] = july_prices_feb_jun_compare['med_july_price_in_jun'] / july_prices_feb_jun_compare['med_july_price_in_feb']  "
   ]
  },
  {
   "cell_type": "code",
   "execution_count": null,
   "metadata": {},
   "outputs": [],
   "source": [
    "july_prices_feb_jun_compare = july_prices_feb_jun_compare.merge(listings[['id','neighbourhood','room_type']],how='left',left_on='listing_id',right_on='id')"
   ]
  },
  {
   "cell_type": "code",
   "execution_count": null,
   "metadata": {},
   "outputs": [],
   "source": [
    "# Find properties that were unavailable for next 3 months\n",
    "calendar_789 = calendar[(calendar['date_year'] == 2020) & (calendar['date_month'].isin([7,8,9]))]"
   ]
  },
  {
   "cell_type": "code",
   "execution_count": null,
   "metadata": {},
   "outputs": [],
   "source": [
    "calendar_789.head(2)"
   ]
  },
  {
   "cell_type": "code",
   "execution_count": null,
   "metadata": {},
   "outputs": [],
   "source": [
    "availability_789 = calendar_789.groupby(['listing_id']).agg(**{'3m_days_available':('available_flag','sum')}).reset_index()\n",
    "unavailable_789 = availability_789[availability_789['3m_days_available']==0]"
   ]
  },
  {
   "cell_type": "code",
   "execution_count": null,
   "metadata": {},
   "outputs": [],
   "source": [
    "unavailable_789_listings =  list(unavailable_789['listing_id'])"
   ]
  },
  {
   "cell_type": "code",
   "execution_count": null,
   "metadata": {},
   "outputs": [],
   "source": []
  },
  {
   "cell_type": "code",
   "execution_count": null,
   "metadata": {},
   "outputs": [],
   "source": [
    "listings_det.query('id == 15400')"
   ]
  },
  {
   "cell_type": "code",
   "execution_count": null,
   "metadata": {},
   "outputs": [],
   "source": [
    "display_and_show_all(listings_det.head(1).T)"
   ]
  },
  {
   "cell_type": "code",
   "execution_count": null,
   "metadata": {},
   "outputs": [],
   "source": []
  },
  {
   "cell_type": "code",
   "execution_count": null,
   "metadata": {},
   "outputs": [],
   "source": [
    "feat = listings_det[['id','property_type','accommodates']].drop_duplicates()\n",
    "july_prices_feb_jun_compare_m = july_prices_feb_jun_compare.merge(feat,how='left',left_on='listing_id',right_on='id')"
   ]
  },
  {
   "cell_type": "code",
   "execution_count": null,
   "metadata": {},
   "outputs": [],
   "source": [
    "july_prices_feb_jun_compare_m"
   ]
  },
  {
   "cell_type": "code",
   "execution_count": null,
   "metadata": {},
   "outputs": [],
   "source": [
    "feb_jun_discount_dist = july_prices_feb_jun_compare_m[~july_prices_feb_jun_compare_m['listing_id'].isin(unavailable_789_listings)].groupby(['property_type','room_type','accommodates'])['feb_to_jun_discount_rate'].describe().sort_values('mean')\n",
    "feb_jun_discount_dist.reset_index(inplace=True)"
   ]
  },
  {
   "cell_type": "code",
   "execution_count": null,
   "metadata": {},
   "outputs": [],
   "source": [
    "feb_jun_discount_dist.head(2)"
   ]
  },
  {
   "cell_type": "code",
   "execution_count": null,
   "metadata": {},
   "outputs": [],
   "source": [
    "july_prices_feb_jun_compare_m[~july_prices_feb_jun_compare_m['listing_id'].isin(unavailable_789_listings)].query('feb_to_jun_discount_rate != 1').groupby(['room_type','accommodates'])['feb_to_jun_discount_rate'].describe().sort_values('50%',ascending=True).head(20)"
   ]
  },
  {
   "cell_type": "code",
   "execution_count": null,
   "metadata": {},
   "outputs": [],
   "source": [
    "import plotly_express as px"
   ]
  },
  {
   "cell_type": "code",
   "execution_count": null,
   "metadata": {},
   "outputs": [],
   "source": [
    "feb_jun_discount_dist['accommodates'].value_counts()"
   ]
  },
  {
   "cell_type": "code",
   "execution_count": null,
   "metadata": {},
   "outputs": [],
   "source": [
    "feb_jun_discount_dist.sort_values('count',ascending=False).head(20)sort_values('count',ascending=False).head(20)"
   ]
  },
  {
   "cell_type": "code",
   "execution_count": null,
   "metadata": {},
   "outputs": [],
   "source": [
    "px.scatter(feb_jun_discount_dist,x='mean',y='count',color='neighbourhood',hover_data=['neighbourhood','count','mean'])"
   ]
  },
  {
   "cell_type": "code",
   "execution_count": null,
   "metadata": {},
   "outputs": [],
   "source": [
    "calendar.query('listing_id == 34241654')"
   ]
  },
  {
   "cell_type": "code",
   "execution_count": null,
   "metadata": {},
   "outputs": [],
   "source": [
    "### Outlier case\n",
    "### Bromley - 34241654"
   ]
  },
  {
   "cell_type": "code",
   "execution_count": null,
   "metadata": {},
   "outputs": [],
   "source": [
    "k_and_c =july_prices_feb_jun_compare.query('listing_id == 34241654')\n",
    "px.scatter(k_and_c,x='feb_to_jun_discount_rate',y='med_july_price_in_jun',color='room_type',\n",
    "          hover_data=['med_july_price_in_feb','med_july_price_in_jun','listing_id','neighbourhood'])"
   ]
  },
  {
   "cell_type": "code",
   "execution_count": null,
   "metadata": {},
   "outputs": [],
   "source": [
    "july_prices_feb_jun_compare.head(2)"
   ]
  },
  {
   "cell_type": "code",
   "execution_count": null,
   "metadata": {},
   "outputs": [],
   "source": [
    "july_prices_feb_jun_compare['rate_change'] = np.where(july_prices_feb_jun_compare['feb_to_jun_discount_rate']==1,0,1)"
   ]
  },
  {
   "cell_type": "code",
   "execution_count": null,
   "metadata": {},
   "outputs": [],
   "source": [
    "pretty_value_counts(july_prices_feb_jun_compare,'rate_change')"
   ]
  },
  {
   "cell_type": "code",
   "execution_count": null,
   "metadata": {},
   "outputs": [],
   "source": [
    "px.box(july_prices_feb_jun_compare.query('feb_to_jun_discount_rate < 1.5 and feb_to_jun_discount_rate != 1'),y='feb_to_jun_discount_rate',\n",
    "      color='room_type')"
   ]
  },
  {
   "cell_type": "code",
   "execution_count": null,
   "metadata": {},
   "outputs": [],
   "source": [
    "px.scatter(july_prices_feb_jun_compare.query('feb_to_jun_discount_rate < 2 '),x='feb_to_jun_discount_rate',y='med_july_price_in_jun',color='room_type',\n",
    "          hover_data=['med_july_price_in_feb','med_july_price_in_jun','feb_to_jun_discount_rate'])\n"
   ]
  },
  {
   "cell_type": "code",
   "execution_count": null,
   "metadata": {},
   "outputs": [],
   "source": []
  },
  {
   "cell_type": "code",
   "execution_count": null,
   "metadata": {},
   "outputs": [],
   "source": [
    "df"
   ]
  },
  {
   "cell_type": "code",
   "execution_count": null,
   "metadata": {},
   "outputs": [],
   "source": [
    "df = px.data.tips()\n",
    "fig = px.histogram(df, x=\"total_bill\", y=\"tip\", color=\"sex\", marginal=\"rug\",\n",
    "                   hover_data=df.columns)\n",
    "fig.show()"
   ]
  },
  {
   "cell_type": "markdown",
   "metadata": {},
   "source": [
    "## What changes have been seen in the availabiliy of London properties on AirBnB?"
   ]
  },
  {
   "cell_type": "markdown",
   "metadata": {},
   "source": [
    "### Does the data suggest some hosts may be removing their properties from AirBnB? Are there less new hosts than there used to be? How many hosts stay on AirBnB from month to month? I.e. what proportion of the volume is due to new hosts vs. existing hosts"
   ]
  },
  {
   "cell_type": "code",
   "execution_count": null,
   "metadata": {},
   "outputs": [],
   "source": [
    "### Looking at change in AirBnB people"
   ]
  },
  {
   "cell_type": "code",
   "execution_count": null,
   "metadata": {},
   "outputs": [],
   "source": [
    "listings_feb = get_data('listings_feb')"
   ]
  },
  {
   "cell_type": "code",
   "execution_count": null,
   "metadata": {},
   "outputs": [],
   "source": [
    "listings_feb['host_id'].nunique()"
   ]
  },
  {
   "cell_type": "code",
   "execution_count": null,
   "metadata": {},
   "outputs": [],
   "source": [
    "listings['host_id'].nunique()"
   ]
  },
  {
   "cell_type": "code",
   "execution_count": null,
   "metadata": {},
   "outputs": [],
   "source": [
    "# Number of hosts that have still got their property listed on AirBnB\n",
    "listings_feb[listings_feb['host_id'].isin(listings['host_id'])]['host_id'].nunique()"
   ]
  },
  {
   "cell_type": "code",
   "execution_count": null,
   "metadata": {},
   "outputs": [],
   "source": [
    "## Number of hosts that have removed their property from AirBnB since February\n",
    "listings_feb[~listings_feb['host_id'].isin(listings['host_id'])]['host_id'].nunique()"
   ]
  },
  {
   "cell_type": "code",
   "execution_count": null,
   "metadata": {},
   "outputs": [],
   "source": [
    "calendar_feb"
   ]
  },
  {
   "cell_type": "code",
   "execution_count": null,
   "metadata": {},
   "outputs": [],
   "source": [
    "## How many more people have made their property completely unavailable since Feb?\n",
    "available_feb = calendar_feb.groupby(['listing_id']).agg(**{'days_available':('available_flag','sum')}).reset_index()\n",
    "available_feb['unavailable_flag'] = np.where(available_feb['days_available']==0,1,0)\n",
    "pretty_value_counts(available_feb,'unavailable_flag')"
   ]
  },
  {
   "cell_type": "code",
   "execution_count": null,
   "metadata": {},
   "outputs": [],
   "source": [
    "available_jul = calendar.groupby(['listing_id']).agg(**{'days_available':('available_flag','sum')}).reset_index()\n",
    "available_jul['unavailable_flag'] = np.where(available_jul['days_available']==0,1,0)\n",
    "pretty_value_counts(available_jul,'unavailable_flag')"
   ]
  },
  {
   "cell_type": "code",
   "execution_count": null,
   "metadata": {},
   "outputs": [],
   "source": [
    "### An increase in 4k properties that are unavailable and a \n",
    "### decrease in 8k properties that are available for the full year"
   ]
  },
  {
   "cell_type": "markdown",
   "metadata": {},
   "source": [
    "### Does the data suggests that there has been an increase in availability/cancellation rate across different Boroughs?"
   ]
  },
  {
   "cell_type": "code",
   "execution_count": null,
   "metadata": {},
   "outputs": [],
   "source": [
    "calendar_3_m = calendar[(calendar['date_year'] == 2020) & (calendar['date_month'].isin([7,8,9]))]\n",
    "calendar_3_m"
   ]
  },
  {
   "cell_type": "code",
   "execution_count": null,
   "metadata": {},
   "outputs": [],
   "source": [
    "avail_3_m = calendar_3_m.groupby(['listing_id']).agg(**{'days_available':('available_flag','sum')}).reset_index()"
   ]
  },
  {
   "cell_type": "code",
   "execution_count": null,
   "metadata": {},
   "outputs": [],
   "source": [
    "avail_3_m['unavailable_flag'] = np.where(avail_3_m['days_available']==0,1,0)"
   ]
  },
  {
   "cell_type": "code",
   "execution_count": null,
   "metadata": {},
   "outputs": [],
   "source": [
    "avail_3_m"
   ]
  },
  {
   "cell_type": "code",
   "execution_count": null,
   "metadata": {},
   "outputs": [],
   "source": [
    "avail_3_m = avail_3_m.merge(listings[['id','neighbourhood','room_type']],how='left',left_on='listing_id',right_on='id')"
   ]
  },
  {
   "cell_type": "code",
   "execution_count": null,
   "metadata": {},
   "outputs": [],
   "source": [
    "avail_3_m_grp = avail_3_m.groupby(['neighbourhood']).agg(**{'listing_count':('listing_id','count'),\n",
    "                                           'unavailable_flag':('unavailable_flag','sum')}).reset_index()"
   ]
  },
  {
   "cell_type": "code",
   "execution_count": null,
   "metadata": {},
   "outputs": [],
   "source": [
    "avail_3_m_grp"
   ]
  },
  {
   "cell_type": "code",
   "execution_count": null,
   "metadata": {},
   "outputs": [],
   "source": [
    "avail_3_m_grp['proportion_unavailable'] = round(avail_3_m_grp['unavailable_flag'] / avail_3_m_grp['listing_count'],2)"
   ]
  },
  {
   "cell_type": "code",
   "execution_count": null,
   "metadata": {},
   "outputs": [],
   "source": [
    "avail_3_m_grp['proportion_available'] = 1 - avail_3_m_grp['proportion_unavailable']\n",
    "avail_3_m_grp"
   ]
  },
  {
   "cell_type": "code",
   "execution_count": null,
   "metadata": {},
   "outputs": [],
   "source": [
    "avail_3_m_grp_m = avail_3_m_grp.melt(id_vars=['neighbourhood'],value_vars=['proportion_unavailable','proportion_available'])"
   ]
  },
  {
   "cell_type": "code",
   "execution_count": null,
   "metadata": {},
   "outputs": [],
   "source": [
    "avail_3_m_grp_m.head(2)"
   ]
  },
  {
   "cell_type": "code",
   "execution_count": null,
   "metadata": {},
   "outputs": [],
   "source": [
    "### Would be more interesting to look at this aggregating, x axis being time scale - \n",
    "### Do we see a big jump with COVID?\n",
    "px.bar(avail_3_m_grp_m,x='neighbourhood',y='value',color='variable')"
   ]
  },
  {
   "cell_type": "markdown",
   "metadata": {},
   "source": [
    "## What changes have their been in the types of stay that are available to guests and has this been reflected in demand? "
   ]
  },
  {
   "cell_type": "markdown",
   "metadata": {},
   "source": [
    "### Has there been a change in the minimum and maximum nights avialable?"
   ]
  },
  {
   "cell_type": "code",
   "execution_count": null,
   "metadata": {},
   "outputs": [],
   "source": [
    "stay_type_feb = calendar_feb.groupby(['listing_id']).agg(**{'min_nights_feb':('minimum_nights','median'),\n",
    "                                                                'max_nights_feb':('maximum_nights','median')}).reset_index()"
   ]
  },
  {
   "cell_type": "code",
   "execution_count": null,
   "metadata": {},
   "outputs": [],
   "source": [
    "stay_type_jul = calendar.groupby(['listing_id']).agg(**{'min_nights_jul':('minimum_nights','median'),\n",
    "                                                                'max_nights_jul':('maximum_nights','median')}).reset_index()"
   ]
  },
  {
   "cell_type": "code",
   "execution_count": null,
   "metadata": {},
   "outputs": [],
   "source": [
    "stay_type_feb_jul = stay_type_feb.merge(stay_type_jul,how='left',on='listing_id')"
   ]
  },
  {
   "cell_type": "code",
   "execution_count": null,
   "metadata": {},
   "outputs": [],
   "source": [
    "got_jul_data = stay_type_feb_jul['min_nights_jul'].notnull()"
   ]
  },
  {
   "cell_type": "code",
   "execution_count": null,
   "metadata": {},
   "outputs": [],
   "source": [
    "stay_type_feb_jul = stay_type_feb_jul[got_jul_data]"
   ]
  },
  {
   "cell_type": "code",
   "execution_count": null,
   "metadata": {},
   "outputs": [],
   "source": [
    "stay_type_feb_jul['min_night_change'] = stay_type_feb_jul['min_nights_jul'] - stay_type_feb_jul['min_nights_feb'] \n",
    "stay_type_feb_jul['max_night_change'] = stay_type_feb_jul['max_nights_jul'] - stay_type_feb_jul['max_nights_feb'] "
   ]
  },
  {
   "cell_type": "code",
   "execution_count": null,
   "metadata": {},
   "outputs": [],
   "source": [
    "stay_type_feb_jul_ap = stay_type_feb_jul.merge(listings[['id','price','room_type','neighbourhood']],how='left',left_on='listing_id',right_on='id')"
   ]
  },
  {
   "cell_type": "code",
   "execution_count": null,
   "metadata": {},
   "outputs": [],
   "source": [
    "## Now testing using index instead - so get rate of change rather than unit "
   ]
  },
  {
   "cell_type": "code",
   "execution_count": null,
   "metadata": {},
   "outputs": [],
   "source": [
    "stay_type_feb_jul_ap['min_night_change_index'] = stay_type_feb_jul_ap['min_nights_jul'] /stay_type_feb_jul_ap['min_nights_feb']  \n",
    "stay_type_feb_jul_ap['max_night_change_index'] = stay_type_feb_jul_ap['max_nights_jul'] /stay_type_feb_jul_ap['max_nights_feb']  "
   ]
  },
  {
   "cell_type": "code",
   "execution_count": null,
   "metadata": {},
   "outputs": [],
   "source": [
    "got_change = (stay_type_feb_jul_ap['min_night_change'] != 0) & (stay_type_feb_jul_ap['max_night_change'] != 0)"
   ]
  },
  {
   "cell_type": "code",
   "execution_count": null,
   "metadata": {},
   "outputs": [],
   "source": [
    "stay_type_feb_jul_ap[got_change]['min_night_change_index'].describe()\n"
   ]
  },
  {
   "cell_type": "code",
   "execution_count": null,
   "metadata": {},
   "outputs": [],
   "source": [
    "stay_type_feb_jul_ap[got_change]['max_night_change_index'].describe()"
   ]
  },
  {
   "cell_type": "code",
   "execution_count": null,
   "metadata": {},
   "outputs": [],
   "source": [
    "stay_type_feb_jul_ap.head(2)"
   ]
  },
  {
   "cell_type": "code",
   "execution_count": null,
   "metadata": {},
   "outputs": [],
   "source": [
    "stay_type_feb_jul_ap['min_night_change_index'].describe()"
   ]
  },
  {
   "cell_type": "code",
   "execution_count": null,
   "metadata": {},
   "outputs": [],
   "source": [
    "px.scatter(stay_type_feb_jul_ap.query('min_night_change_index < 5'),x='min_night_change_index',y='price',\n",
    "           color='room_type',\n",
    "          hover_data=['min_nights_feb','min_nights_jul'])"
   ]
  },
  {
   "cell_type": "code",
   "execution_count": null,
   "metadata": {},
   "outputs": [],
   "source": [
    "px.scatter(stay_type_feb_jul_ap,x='max_night_change_index',y='price',\n",
    "           color='room_type',\n",
    "          hover_data=['max_nights_feb','max_nights_jul'])"
   ]
  },
  {
   "cell_type": "code",
   "execution_count": null,
   "metadata": {},
   "outputs": [],
   "source": [
    "got_change = (stay_type_feb_jul_ap['min_night_change'] != 0) & (stay_type_feb_jul_ap['max_night_change'] != 0)"
   ]
  },
  {
   "cell_type": "code",
   "execution_count": null,
   "metadata": {},
   "outputs": [],
   "source": [
    "fig = px.scatter(stay_type_feb_jul_ap.query('neighbourhood == \"Tower Hamlets\"'),y='price',x='min_night_change',\n",
    "          hover_data=['min_nights_feb','min_nights_jul','listing_id'],\n",
    "          color='room_type')\n",
    "\n",
    "fig.show()\n",
    "results = px.get_trendline_results(fig)\n",
    "results"
   ]
  },
  {
   "cell_type": "code",
   "execution_count": null,
   "metadata": {},
   "outputs": [],
   "source": [
    "display_and_show_all(results)"
   ]
  },
  {
   "cell_type": "code",
   "execution_count": null,
   "metadata": {},
   "outputs": [],
   "source": [
    "calendar_feb['minimum_nights'].describe()"
   ]
  },
  {
   "cell_type": "code",
   "execution_count": null,
   "metadata": {},
   "outputs": [],
   "source": [
    "calendar['minimum_nights'].describe()"
   ]
  },
  {
   "cell_type": "code",
   "execution_count": null,
   "metadata": {},
   "outputs": [],
   "source": [
    "calendar_feb['maximum_nights'].describe()"
   ]
  },
  {
   "cell_type": "code",
   "execution_count": null,
   "metadata": {},
   "outputs": [],
   "source": [
    "calendar['maximum_nights'].describe()"
   ]
  },
  {
   "cell_type": "markdown",
   "metadata": {},
   "source": [
    "### Has the length of stay changed following the pandemic?"
   ]
  },
  {
   "cell_type": "code",
   "execution_count": null,
   "metadata": {},
   "outputs": [],
   "source": []
  },
  {
   "cell_type": "code",
   "execution_count": null,
   "metadata": {},
   "outputs": [],
   "source": []
  },
  {
   "cell_type": "markdown",
   "metadata": {},
   "source": [
    "# Conclusion"
   ]
  },
  {
   "cell_type": "markdown",
   "metadata": {},
   "source": [
    "## Listing discount  - take from here"
   ]
  },
  {
   "cell_type": "markdown",
   "metadata": {},
   "source": [
    "### 2020 "
   ]
  },
  {
   "cell_type": "markdown",
   "metadata": {},
   "source": [
    "First strip out unavailable properties"
   ]
  },
  {
   "cell_type": "code",
   "execution_count": null,
   "metadata": {},
   "outputs": [],
   "source": [
    "june_listings_avail= calendar.groupby(['listing_id']).agg(**{'Number of properties':('listing_id','count'),\n",
    "                                        'Days available':('available_flag','sum')}).reset_index()"
   ]
  },
  {
   "cell_type": "code",
   "execution_count": null,
   "metadata": {},
   "outputs": [],
   "source": [
    "june_listings_avail['Unavailable flag'] = np.where(june_listings_avail['Days available']==0,1,0)\n",
    "unavailable_property = june_listings_avail['Unavailable flag']==1"
   ]
  },
  {
   "cell_type": "code",
   "execution_count": null,
   "metadata": {},
   "outputs": [],
   "source": [
    "calendar['unavailable_property'] = np.where(calendar['listing_id'].isin(june_listings_avail[unavailable_property]['listing_id']),1,0)"
   ]
  },
  {
   "cell_type": "code",
   "execution_count": null,
   "metadata": {},
   "outputs": [],
   "source": [
    "available_property = calendar['unavailable_property'] == 0"
   ]
  },
  {
   "cell_type": "code",
   "execution_count": null,
   "metadata": {},
   "outputs": [],
   "source": [
    "july_listings_from_june = calendar[available_property].query('date_month == 7 and date_year == 2020')"
   ]
  },
  {
   "cell_type": "code",
   "execution_count": null,
   "metadata": {},
   "outputs": [],
   "source": [
    "july_listings_from_june = july_listings_from_june.groupby(['listing_id']).agg(**{'median_price_in_june':('price_clean','median')}).reset_index()"
   ]
  },
  {
   "cell_type": "code",
   "execution_count": null,
   "metadata": {},
   "outputs": [],
   "source": [
    "july_listings_from_feb = calendar_feb.groupby(['listing_id']).agg(**{'median_price_in_feb':('price_clean','median')}).reset_index()"
   ]
  },
  {
   "cell_type": "code",
   "execution_count": null,
   "metadata": {},
   "outputs": [],
   "source": [
    "july_listings_from_feb_june = july_listings_from_june.merge(july_listings_from_feb,how='left',on='listing_id')"
   ]
  },
  {
   "cell_type": "code",
   "execution_count": null,
   "metadata": {},
   "outputs": [],
   "source": [
    "july_listings_from_feb_june = july_listings_from_feb_june[july_listings_from_feb_june['median_price_in_feb'].notnull()]"
   ]
  },
  {
   "cell_type": "code",
   "execution_count": null,
   "metadata": {},
   "outputs": [],
   "source": [
    "july_listings_from_feb_june['feb_to_june_discount'] = july_listings_from_feb_june['median_price_in_feb'] - july_listings_from_feb_june['median_price_in_june']"
   ]
  },
  {
   "cell_type": "code",
   "execution_count": null,
   "metadata": {},
   "outputs": [],
   "source": [
    "july_listings_from_feb_june['got_price_change'] = np.where(july_listings_from_feb_june['feb_to_june_discount']==0,0,1)"
   ]
  },
  {
   "cell_type": "code",
   "execution_count": null,
   "metadata": {},
   "outputs": [],
   "source": []
  },
  {
   "cell_type": "code",
   "execution_count": null,
   "metadata": {},
   "outputs": [],
   "source": [
    "july_listings_from_feb_june['june_price_over_feb_price'] = july_listings_from_feb_june['median_price_in_june']/ july_listings_from_feb_june['median_price_in_feb']"
   ]
  },
  {
   "cell_type": "code",
   "execution_count": null,
   "metadata": {},
   "outputs": [],
   "source": [
    "july_listings_from_feb_june.query('got_price_change == 1')\n"
   ]
  },
  {
   "cell_type": "code",
   "execution_count": null,
   "metadata": {},
   "outputs": [],
   "source": [
    "july_listings_from_feb_june['5_fold_price_inc'] = np.where(july_listings_from_feb_june['june_price_over_feb_price']>=5,1,0)"
   ]
  },
  {
   "cell_type": "code",
   "execution_count": null,
   "metadata": {},
   "outputs": [],
   "source": [
    "july_listings_from_feb_june['4_fold_price_inc'] = np.where(july_listings_from_feb_june['june_price_over_feb_price']>=4,1,0)"
   ]
  },
  {
   "cell_type": "code",
   "execution_count": null,
   "metadata": {},
   "outputs": [],
   "source": [
    "july_listings_from_feb_june['3_fold_price_inc'] = np.where(july_listings_from_feb_june['june_price_over_feb_price']>=3,1,0)"
   ]
  },
  {
   "cell_type": "code",
   "execution_count": null,
   "metadata": {},
   "outputs": [],
   "source": [
    "july_listings_from_feb_june['2_fold_price_inc'] = np.where(july_listings_from_feb_june['june_price_over_feb_price']>=2,1,0)"
   ]
  },
  {
   "cell_type": "code",
   "execution_count": null,
   "metadata": {},
   "outputs": [],
   "source": [
    "july_listings_from_feb_june['2_fold_price_inc'] = np.where(july_listings_from_feb_june['june_price_over_feb_price']>=2,1,0)"
   ]
  },
  {
   "cell_type": "code",
   "execution_count": null,
   "metadata": {},
   "outputs": [],
   "source": [
    "july_listings_from_feb_june['2_fold_price_inc'] = np.where(july_listings_from_feb_june['june_price_over_feb_price']>=2,1,0)['2_fold_price_inc'] != 1"
   ]
  },
  {
   "cell_type": "code",
   "execution_count": null,
   "metadata": {},
   "outputs": [],
   "source": [
    "under_2_fold_price_inc = july_listings_from_feb_june['2_fold_price_inc'] != 1"
   ]
  },
  {
   "cell_type": "code",
   "execution_count": null,
   "metadata": {},
   "outputs": [],
   "source": [
    "px.scatter(july_listings_from_feb_june[under_2_fold_price_inc],x='june_price_over_feb_price',y='median_price_in_june',\n",
    "          hover_data=['listing_id','median_price_in_june','median_price_in_feb'])"
   ]
  },
  {
   "cell_type": "code",
   "execution_count": null,
   "metadata": {},
   "outputs": [],
   "source": [
    "july_listings_from_feb_june[under_2_fold_price_inc].query('got_price_change == 1')['june_price_over_feb_price'].describe()"
   ]
  },
  {
   "cell_type": "code",
   "execution_count": null,
   "metadata": {},
   "outputs": [],
   "source": [
    "## interesting to look at this by number of listings host has\n",
    "july_listings_from_feb_june.query('got_price_change== 1').describe()"
   ]
  },
  {
   "cell_type": "code",
   "execution_count": null,
   "metadata": {},
   "outputs": [],
   "source": [
    "listings_host_num = listings[['id','host_id']].merge(host_listings[['host_id','Number of listings','Number of listings bin']],how='left',on='host_id')"
   ]
  },
  {
   "cell_type": "code",
   "execution_count": null,
   "metadata": {},
   "outputs": [],
   "source": [
    "listings_host_num"
   ]
  },
  {
   "cell_type": "code",
   "execution_count": null,
   "metadata": {},
   "outputs": [],
   "source": [
    "july_listings_from_feb_june.shape"
   ]
  },
  {
   "cell_type": "code",
   "execution_count": null,
   "metadata": {},
   "outputs": [],
   "source": [
    "july_listings_from_feb_june = july_listings_from_feb_june.merge(listings_host_num,how='left',left_on='listing_id',right_on='id')"
   ]
  },
  {
   "cell_type": "code",
   "execution_count": null,
   "metadata": {},
   "outputs": [],
   "source": [
    "july_listings_from_feb_june_grp = july_listings_from_feb_june.groupby(['Number of listings bin','got_price_change'])['id'].count().reset_index()"
   ]
  },
  {
   "cell_type": "code",
   "execution_count": null,
   "metadata": {},
   "outputs": [],
   "source": [
    "summer = july_listings_from_feb_june_grp.groupby('Number of listings bin').agg(**{'total_num_listings':('id','sum')}).reset_index()"
   ]
  },
  {
   "cell_type": "code",
   "execution_count": null,
   "metadata": {},
   "outputs": [],
   "source": [
    "july_listings_from_feb_june_grp = july_listings_from_feb_june_grp.merge(summer,how='left',on='Number of listings bin').reset_index()"
   ]
  },
  {
   "cell_type": "code",
   "execution_count": null,
   "metadata": {},
   "outputs": [],
   "source": [
    "july_listings_from_feb_june_grp['proportion'] = july_listings_from_feb_june_grp['id']/ july_listings_from_feb_june_grp['total_num_listings']"
   ]
  },
  {
   "cell_type": "code",
   "execution_count": null,
   "metadata": {},
   "outputs": [],
   "source": [
    "july_listings_from_feb_june_grp[under_2_fold_price_inc].sort_values('Number of listings bin')"
   ]
  },
  {
   "cell_type": "code",
   "execution_count": null,
   "metadata": {},
   "outputs": [],
   "source": [
    "july_listings_from_feb_june.head(1)"
   ]
  },
  {
   "cell_type": "code",
   "execution_count": null,
   "metadata": {},
   "outputs": [],
   "source": [
    "july_listings_from_feb_june.rename(columns={'Number of listings bin':'c'},inplace=True)"
   ]
  },
  {
   "cell_type": "code",
   "execution_count": null,
   "metadata": {},
   "outputs": [],
   "source": [
    "under_2_fold_price_inc = july_listings_from_feb_june['2_fold_price_inc'] != 1"
   ]
  },
  {
   "cell_type": "code",
   "execution_count": null,
   "metadata": {},
   "outputs": [],
   "source": [
    "pretty_value_counts(july_listings_from_feb_june[under_2_fold_price_inc],'Number of listings of host')"
   ]
  },
  {
   "cell_type": "code",
   "execution_count": null,
   "metadata": {},
   "outputs": [],
   "source": [
    "july_listings_from_feb_june[under_2_fold_price_inc].query('`Number of listings` == \"1\"')"
   ]
  },
  {
   "cell_type": "code",
   "execution_count": null,
   "metadata": {},
   "outputs": [],
   "source": [
    "july_listings_from_feb_june.head(1)"
   ]
  },
  {
   "cell_type": "code",
   "execution_count": null,
   "metadata": {},
   "outputs": [],
   "source": []
  },
  {
   "cell_type": "code",
   "execution_count": null,
   "metadata": {},
   "outputs": [],
   "source": [
    "july_listings_from_feb_june['Number of listings'] = july_listings_from_feb_june['Number of listings'].astype(str)\n",
    "july_listings_from_feb_june['Number of listings int'] = july_listings_from_feb_june['Number of listings'].astype(int)"
   ]
  },
  {
   "cell_type": "code",
   "execution_count": null,
   "metadata": {},
   "outputs": [],
   "source": [
    "def bin_number_listings2(col):\n",
    "    if col == 1 : return \"1\"\n",
    "    elif col == 2: return \"2\"\n",
    "    elif col in [3,4,5,6,7,8,9]: return \"3-9\"\n",
    "    else: return \"10+\""
   ]
  },
  {
   "cell_type": "code",
   "execution_count": null,
   "metadata": {},
   "outputs": [],
   "source": [
    "july_listings_from_feb_june['Number of listings of host2']= july_listings_from_feb_june['Number of listings int'].apply(bin_number_listings2)"
   ]
  },
  {
   "cell_type": "code",
   "execution_count": null,
   "metadata": {},
   "outputs": [],
   "source": [
    "fig = px.scatter(july_listings_from_feb_june[under_2_fold_price_inc].sort_values('Number of listings int'),x='june_price_over_feb_price',y='median_price_in_june',\n",
    "          hover_data=['listing_id','median_price_in_june','median_price_in_feb','host_id','Number of listings'],\n",
    "          color='Number of listings of host2'\n",
    "          )\n",
    "fig.show()"
   ]
  },
  {
   "cell_type": "code",
   "execution_count": null,
   "metadata": {},
   "outputs": [],
   "source": [
    "july_listings_from_feb_june[under_2_fold_price_inc]['']"
   ]
  },
  {
   "cell_type": "code",
   "execution_count": null,
   "metadata": {},
   "outputs": [],
   "source": [
    "july_listings_from_feb_june['Number of listings'] = july_listings_from_feb_june['Number of listings'].astype(int)"
   ]
  },
  {
   "cell_type": "code",
   "execution_count": null,
   "metadata": {},
   "outputs": [],
   "source": [
    "july_listings_from_feb_june['june_price_over_feb_price'].describe()"
   ]
  },
  {
   "cell_type": "code",
   "execution_count": null,
   "metadata": {},
   "outputs": [],
   "source": [
    "x = x[x.between(x.quantile(.15), x.quantile(.85))] "
   ]
  },
  {
   "cell_type": "code",
   "execution_count": null,
   "metadata": {},
   "outputs": [],
   "source": [
    "july_listings_from_feb_june['outlier'] = np.where(july_listings_from_feb_june['june_price_over_feb_price'].between(july_listings_from_feb_june['june_price_over_feb_price'].quantile(.01),july_listings_from_feb_june['june_price_over_feb_price'].quantile(.99)),0,1)"
   ]
  },
  {
   "cell_type": "code",
   "execution_count": null,
   "metadata": {},
   "outputs": [],
   "source": [
    "july_listings_from_feb_june.query('outlier == 1')"
   ]
  },
  {
   "cell_type": "code",
   "execution_count": null,
   "metadata": {},
   "outputs": [],
   "source": [
    "px.scatter(july_listings_from_feb_june,x='median_price_in_feb',y='median_price_in_june',\n",
    "          color='Number of listings of host',\n",
    "          opacity=0.2,\n",
    "          color_discrete_sequence=px.colors.qualitative.Plotly,\n",
    "          trendline='ols',\n",
    "          hover_data=['june_price_over_feb_price'],\n",
    "          title='June London rental prices')"
   ]
  },
  {
   "cell_type": "code",
   "execution_count": null,
   "metadata": {},
   "outputs": [],
   "source": [
    "july_listings_from_feb_june[under_2_fold_price_inc].groupby(['Number of listings of host2'])['june_price_over_feb_price'].describe()"
   ]
  },
  {
   "cell_type": "code",
   "execution_count": null,
   "metadata": {},
   "outputs": [],
   "source": [
    "## ideally have a toggle here which can flip between different variables to plot on Y axis, so feb_to_june_discount, median price discount etc.\n",
    "px.box(july_listings_from_feb_june[under_2_fold_price_inc].query('got_price_change == 1'),y='june_price_over_feb_price',color='Number of listings of host')"
   ]
  },
  {
   "cell_type": "code",
   "execution_count": null,
   "metadata": {},
   "outputs": [],
   "source": [
    "july_listings_from_feb_june.groupby(['Number of listings of host'])['got_price_change'].describe()"
   ]
  },
  {
   "cell_type": "code",
   "execution_count": null,
   "metadata": {},
   "outputs": [],
   "source": [
    "july_listings_from_feb_june.query('got_price_change == 1').head(1)"
   ]
  },
  {
   "cell_type": "code",
   "execution_count": null,
   "metadata": {},
   "outputs": [],
   "source": [
    "july_listings_from_feb_june.query('got_price_change == 1').groupby(['Number of listings of host'])['june_price_over_feb_price'].describe()"
   ]
  },
  {
   "cell_type": "code",
   "execution_count": null,
   "metadata": {},
   "outputs": [],
   "source": [
    "july_listings_from_feb_june.query('got_price_change == 1').groupby(['Number of listings of host'])['feb_to_june_discount'].describe()"
   ]
  },
  {
   "cell_type": "code",
   "execution_count": null,
   "metadata": {},
   "outputs": [],
   "source": [
    "july_listings_from_feb_june.query('got_price_change == 1')['june_price_over_feb_price'].describe()"
   ]
  },
  {
   "cell_type": "code",
   "execution_count": null,
   "metadata": {},
   "outputs": [],
   "source": [
    "### The more properties a host owns, the more likely they are to discount\n",
    "### and the greater that discount is going to be "
   ]
  },
  {
   "cell_type": "markdown",
   "metadata": {},
   "source": [
    "### 2019"
   ]
  },
  {
   "cell_type": "markdown",
   "metadata": {},
   "source": [
    "Comparing this to 2019 data"
   ]
  },
  {
   "cell_type": "code",
   "execution_count": null,
   "metadata": {},
   "outputs": [],
   "source": []
  },
  {
   "cell_type": "code",
   "execution_count": null,
   "metadata": {},
   "outputs": [],
   "source": [
    "listings"
   ]
  },
  {
   "cell_type": "code",
   "execution_count": null,
   "metadata": {},
   "outputs": [],
   "source": [
    "os.getcwd()"
   ]
  },
  {
   "cell_type": "code",
   "execution_count": null,
   "metadata": {},
   "outputs": [],
   "source": [
    "ls data/AirBnB-Data-040920/"
   ]
  },
  {
   "cell_type": "code",
   "execution_count": null,
   "metadata": {},
   "outputs": [],
   "source": [
    "! gunzip 'data/AirBnB-Data-040920/10 May 2020/calendar.csv.gz' "
   ]
  },
  {
   "cell_type": "code",
   "execution_count": null,
   "metadata": {},
   "outputs": [],
   "source": []
  },
  {
   "cell_type": "code",
   "execution_count": null,
   "metadata": {},
   "outputs": [],
   "source": [
    "july_listings_from_feb_june"
   ]
  },
  {
   "cell_type": "code",
   "execution_count": null,
   "metadata": {},
   "outputs": [],
   "source": [
    "dropdowns_dict= {'September 2019':['August 2019','September 2019'],\n",
    "              'October 2019':['August 2019','September 2019','October 2019'],\n",
    "              'November 2019':['August 2019','September 2019','October 2019','November 2019'],\n",
    "              'December 2019':['August 2019','September 2019','October 2019','November 2019','December 2019'],\n",
    "              'January 2020':['August 2019','September 2019','October 2019','November 2019','December 2019','January 2020'],\n",
    "              'February 2020':['August 2019','September 2019','October 2019','November 2019','December 2019','January 2020','February 2020'],\n",
    "              'March 2020':['August 2019','September 2019','October 2019','November 2019','December 2019','January 2020','February 2020','March 2020'],\n",
    "              'April 2020':['August 2019','September 2019','October 2019','November 2019','December 2019','January 2020','February 2020','March 2020','April 2020'],\n",
    "              'May 2020':['August 2019','September 2019','October 2019','November 2019','December 2019','January 2020','February 2020','March 2020','April 2020','May 2020'],\n",
    "              'June 2020':['August 2019','September 2019','October 2019','November 2019','December 2019','January 2020','February 2020','March 2020','April 2020','May 2020','June 2020']}\n",
    "      "
   ]
  },
  {
   "cell_type": "code",
   "execution_count": null,
   "metadata": {},
   "outputs": [],
   "source": [
    "dropdowns_dict['January 2020']"
   ]
  },
  {
   "cell_type": "code",
   "execution_count": null,
   "metadata": {},
   "outputs": [],
   "source": [
    "d"
   ]
  },
  {
   "cell_type": "code",
   "execution_count": null,
   "metadata": {},
   "outputs": [],
   "source": [
    "july_prices_feb_jun_compare.head(1)"
   ]
  },
  {
   "cell_type": "code",
   "execution_count": null,
   "metadata": {},
   "outputs": [],
   "source": [
    "july_prices_feb_jun_compare[july_prices_feb_jun_compare['med_july_price_in_feb'].notnull()].head(2)"
   ]
  },
  {
   "cell_type": "code",
   "execution_count": null,
   "metadata": {},
   "outputs": [],
   "source": [
    "px.scatter(july_prices_feb_jun_compare,x='med_july_price_in_feb',y='med_july_price_in_jun')"
   ]
  },
  {
   "cell_type": "code",
   "execution_count": null,
   "metadata": {},
   "outputs": [],
   "source": [
    "import dash\n",
    "import dash_bootstrap_components as dbc\n",
    "import dash_core_components as dcc\n",
    "import dash_html_components as html\n",
    "import pandas as pd\n",
    "import plotly.graph_objs as go\n",
    "from dash.dependencies import Input, Output\n",
    "from sklearn import datasets\n",
    "from sklearn.cluster import KMeans\n",
    "from jupyter_dash import JupyterDash\n",
    "\n",
    "iris_raw = datasets.load_iris()\n",
    "iris = pd.DataFrame(iris_raw[\"data\"], columns=iris_raw[\"feature_names\"])\n",
    "\n",
    "app = JupyterDash(external_stylesheets=[dbc.themes.BOOTSTRAP])\n",
    "\n",
    "controls = dbc.Card(\n",
    "    [\n",
    "        dbc.FormGroup(\n",
    "            [\n",
    "                dbc.Label(\"X variable\"),\n",
    "                dcc.Dropdown(\n",
    "                    id=\"x-variable\",\n",
    "                    options=[\n",
    "                        {\"label\": col, \"value\": col} for col in iris.columns\n",
    "                    ],\n",
    "                    value=\"sepal length (cm)\",\n",
    "                ),\n",
    "            ]\n",
    "        ),\n",
    "        dbc.FormGroup(\n",
    "            [\n",
    "                dbc.Label(\"Y variable\"),\n",
    "                dcc.Dropdown(\n",
    "                    id=\"y-variable\",\n",
    "                    options=[\n",
    "                        {\"label\": col, \"value\": col} for col in iris.columns\n",
    "                    ],\n",
    "                    value=\"sepal width (cm)\",\n",
    "                ),\n",
    "            ]\n",
    "        ),\n",
    "        dbc.FormGroup(\n",
    "            [\n",
    "                dbc.Label(\"Cluster count\"),\n",
    "                dbc.Input(id=\"cluster-count\", type=\"number\", value=3),\n",
    "            ]\n",
    "        ),\n",
    "    ],\n",
    "    body=True,\n",
    ")\n",
    "\n",
    "app.layout = dbc.Container(\n",
    "    [\n",
    "        html.H1(\"Iris k-means clustering\"),\n",
    "        html.Hr(),\n",
    "        dbc.Row(\n",
    "            [\n",
    "                dbc.Col(controls, md=4),\n",
    "                dbc.Col(dcc.Graph(id=\"cluster-graph\"), md=8),\n",
    "            ],\n",
    "            align=\"center\",\n",
    "        ),\n",
    "    ],\n",
    "    fluid=True,\n",
    ")\n",
    "\n",
    "\n",
    "@app.callback(\n",
    "    Output(\"cluster-graph\", \"figure\"),\n",
    "    [\n",
    "        Input(\"x-variable\", \"value\"),\n",
    "        Input(\"y-variable\", \"value\"),\n",
    "        Input(\"cluster-count\", \"value\"),\n",
    "    ],\n",
    ")\n",
    "def make_graph(x, y, n_clusters):\n",
    "    # minimal input validation, make sure there's at least one cluster\n",
    "    km = KMeans(n_clusters=max(n_clusters, 1))\n",
    "    df = iris.loc[:, [x, y]]\n",
    "    km.fit(df.values)\n",
    "    df[\"cluster\"] = km.labels_\n",
    "\n",
    "    centers = km.cluster_centers_\n",
    "\n",
    "    data = [\n",
    "        go.Scatter(\n",
    "            x=df.loc[df.cluster == c, x],\n",
    "            y=df.loc[df.cluster == c, y],\n",
    "            mode=\"markers\",\n",
    "            marker={\"size\": 8},\n",
    "            name=\"Cluster {}\".format(c),\n",
    "        )\n",
    "        for c in range(n_clusters)\n",
    "    ]\n",
    "\n",
    "    data.append(\n",
    "        go.Scatter(\n",
    "            x=centers[:, 0],\n",
    "            y=centers[:, 1],\n",
    "            mode=\"markers\",\n",
    "            marker={\"color\": \"#000\", \"size\": 12, \"symbol\": \"diamond\"},\n",
    "            name=\"Cluster centers\",\n",
    "        )\n",
    "    )\n",
    "\n",
    "    layout = {\"xaxis\": {\"title\": x}, \"yaxis\": {\"title\": y}}\n",
    "\n",
    "    return go.Figure(data=data, layout=layout)\n",
    "\n",
    "\n",
    "# make sure that x and y values can't be the same variable\n",
    "def filter_options(v):\n",
    "    \"\"\"Disable option v\"\"\"\n",
    "    return [\n",
    "        {\"label\": col, \"value\": col, \"disabled\": col == v}\n",
    "        for col in iris.columns\n",
    "    ]\n",
    "\n",
    "\n",
    "# functionality is the same for both dropdowns, so we reuse filter_options\n",
    "app.callback(Output(\"x-variable\", \"options\"), [Input(\"y-variable\", \"value\")])(\n",
    "    filter_options\n",
    ")\n",
    "app.callback(Output(\"y-variable\", \"options\"), [Input(\"x-variable\", \"value\")])(\n",
    "    filter_options\n",
    ")\n",
    "\n",
    "\n",
    "if __name__ == \"__main__\":\n",
    "    app.run_server(mode='inline')"
   ]
  },
  {
   "cell_type": "code",
   "execution_count": null,
   "metadata": {},
   "outputs": [],
   "source": [
    "from jupyter_dash import JupyterDash\n"
   ]
  },
  {
   "cell_type": "code",
   "execution_count": null,
   "metadata": {},
   "outputs": [],
   "source": [
    "import plotly.express as px\n",
    "from jupyter_dash import JupyterDash\n",
    "import dash_core_components as dcc\n",
    "import dash_html_components as html\n",
    "from dash.dependencies import Input, Output\n",
    "# Load Data\n",
    "df = px.data.tips()\n",
    "# Build App\n",
    "app = JupyterDash(__name__)\n",
    "app.layout = html.Div([\n",
    "    html.H1(\"JupyterDash Demo\"),\n",
    "    dcc.Graph(id='graph'),\n",
    "    html.Label([\n",
    "        \"colorscale\",\n",
    "        dcc.Dropdown(\n",
    "            id='colorscale-dropdown', clearable=False,\n",
    "            value='plasma', options=[\n",
    "                {'label': c, 'value': c}\n",
    "                for c in px.colors.named_colorscales()\n",
    "            ])\n",
    "    ]),\n",
    "])\n",
    "# Define callback to update graph\n",
    "@app.callback(\n",
    "    Output('graph', 'figure'),\n",
    "    [Input(\"colorscale-dropdown\", \"value\")]\n",
    ")\n",
    "def update_figure(colorscale):\n",
    "    return px.scatter(\n",
    "        df, x=\"total_bill\", y=\"tip\", color=\"size\",\n",
    "        color_continuous_scale=colorscale,\n",
    "        render_mode=\"webgl\", title=\"Tips\"\n",
    "    )\n",
    "# Run app and display result inline in the notebook\n",
    "app.run_server(debug=True,host='127.0.0.1',port=8050)"
   ]
  },
  {
   "cell_type": "code",
   "execution_count": null,
   "metadata": {},
   "outputs": [],
   "source": []
  }
 ],
 "metadata": {
  "kernelspec": {
   "display_name": "Python 3",
   "language": "python",
   "name": "python3"
  },
  "language_info": {
   "codemirror_mode": {
    "name": "ipython",
    "version": 3
   },
   "file_extension": ".py",
   "mimetype": "text/x-python",
   "name": "python",
   "nbconvert_exporter": "python",
   "pygments_lexer": "ipython3",
   "version": "3.7.6"
  },
  "latex_envs": {
   "LaTeX_envs_menu_present": true,
   "autoclose": false,
   "autocomplete": true,
   "bibliofile": "biblio.bib",
   "cite_by": "apalike",
   "current_citInitial": 1,
   "eqLabelWithNumbers": true,
   "eqNumInitial": 1,
   "hotkeys": {
    "equation": "Ctrl-E",
    "itemize": "Ctrl-I"
   },
   "labels_anchors": false,
   "latex_user_defs": false,
   "report_style_numbering": false,
   "user_envs_cfg": false
  },
  "toc": {
   "base_numbering": 1,
   "nav_menu": {},
   "number_sections": true,
   "sideBar": true,
   "skip_h1_title": false,
   "title_cell": "Table of Contents",
   "title_sidebar": "Contents",
   "toc_cell": false,
   "toc_position": {},
   "toc_section_display": true,
   "toc_window_display": false
  },
  "varInspector": {
   "cols": {
    "lenName": 16,
    "lenType": 16,
    "lenVar": 40
   },
   "kernels_config": {
    "python": {
     "delete_cmd_postfix": "",
     "delete_cmd_prefix": "del ",
     "library": "var_list.py",
     "varRefreshCmd": "print(var_dic_list())"
    },
    "r": {
     "delete_cmd_postfix": ") ",
     "delete_cmd_prefix": "rm(",
     "library": "var_list.r",
     "varRefreshCmd": "cat(var_dic_list()) "
    }
   },
   "types_to_exclude": [
    "module",
    "function",
    "builtin_function_or_method",
    "instance",
    "_Feature"
   ],
   "window_display": false
  }
 },
 "nbformat": 4,
 "nbformat_minor": 2
}
